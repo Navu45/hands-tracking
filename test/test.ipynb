{
 "cells": [
  {
   "cell_type": "code",
   "execution_count": 4,
   "metadata": {
    "collapsed": false
   },
   "outputs": [],
   "source": [
    "class Conv2dOptions:\n",
    "  kernel = [3, 3]\n",
    "  stride = [1, 1]\n",
    "  padding = [0, 0]\n",
    "  dilation = [1, 1]"
   ]
  },
  {
   "cell_type": "code",
   "execution_count": 6,
   "metadata": {},
   "outputs": [
    {
     "ename": "TypeError",
     "evalue": "Conv2dOptions() takes no arguments",
     "output_type": "error",
     "traceback": [
      "\u001b[1;31m---------------------------------------------------------------------------\u001b[0m",
      "\u001b[1;31mTypeError\u001b[0m                                 Traceback (most recent call last)",
      "Cell \u001b[1;32mIn[6], line 1\u001b[0m\n\u001b[1;32m----> 1\u001b[0m Conv2dOptions([\u001b[39m3\u001b[39;49m,\u001b[39m3\u001b[39;49m], [\u001b[39m3\u001b[39;49m,\u001b[39m3\u001b[39;49m], [\u001b[39m3\u001b[39;49m,\u001b[39m3\u001b[39;49m], [\u001b[39m3\u001b[39;49m,\u001b[39m3\u001b[39;49m])\n",
      "\u001b[1;31mTypeError\u001b[0m: Conv2dOptions() takes no arguments"
     ]
    }
   ],
   "source": [
    "Conv2dOptions([3,3], [3,3], [3,3], [3,3])"
   ]
  }
 ],
 "metadata": {
  "kernelspec": {
   "display_name": "Python 3",
   "language": "python",
   "name": "python3"
  },
  "language_info": {
   "codemirror_mode": {
    "name": "ipython",
    "version": 3
   },
   "file_extension": ".py",
   "mimetype": "text/x-python",
   "name": "python",
   "nbconvert_exporter": "python",
   "pygments_lexer": "ipython3",
   "version": "3.9.16"
  }
 },
 "nbformat": 4,
 "nbformat_minor": 0
}
