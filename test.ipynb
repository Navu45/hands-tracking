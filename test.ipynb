{
 "cells": [
  {
   "cell_type": "code",
   "execution_count": 6,
   "metadata": {
    "collapsed": true,
    "ExecuteTime": {
     "start_time": "2023-04-20T13:04:53.047170Z",
     "end_time": "2023-04-20T13:04:53.074172Z"
    }
   },
   "outputs": [],
   "source": [
    "import torch\n",
    "\n",
    "adjacency_indices = torch.load('./data/mano/mano_195_adjmat_indices.pt')\n",
    "adjacency_matrix_value = torch.load('./data/mano/mano_195_adjmat_values.pt')\n",
    "adjacency_matrix_size = torch.load('./data/mano/mano_195_adjmat_size.pt')"
   ]
  },
  {
   "cell_type": "code",
   "execution_count": 11,
   "outputs": [
    {
     "data": {
      "text/plain": "(tensor([[  0,   0,   0,  ..., 194, 194, 194],\n         [  0,  13,  15,  ...,  43, 193, 194]]),\n torch.Size([2, 1331]))"
     },
     "execution_count": 11,
     "metadata": {},
     "output_type": "execute_result"
    }
   ],
   "source": [
    "adjacency_indices, adjacency_indices.shape"
   ],
   "metadata": {
    "collapsed": false,
    "ExecuteTime": {
     "start_time": "2023-04-20T13:05:21.529307Z",
     "end_time": "2023-04-20T13:05:21.543294Z"
    }
   }
  },
  {
   "cell_type": "code",
   "execution_count": 12,
   "outputs": [
    {
     "data": {
      "text/plain": "(tensor([0.1667, 0.1667, 0.1667,  ..., 0.2000, 0.2000, 0.2000]),\n torch.Size([1331]))"
     },
     "execution_count": 12,
     "metadata": {},
     "output_type": "execute_result"
    }
   ],
   "source": [
    "adjacency_matrix_value, adjacency_matrix_value.shape"
   ],
   "metadata": {
    "collapsed": false,
    "ExecuteTime": {
     "start_time": "2023-04-20T13:05:21.759458Z",
     "end_time": "2023-04-20T13:05:21.773457Z"
    }
   }
  },
  {
   "cell_type": "code",
   "execution_count": 15,
   "outputs": [
    {
     "data": {
      "text/plain": "torch.Size([195, 195])"
     },
     "execution_count": 15,
     "metadata": {},
     "output_type": "execute_result"
    }
   ],
   "source": [
    "adjacency_matrix_size"
   ],
   "metadata": {
    "collapsed": false,
    "ExecuteTime": {
     "start_time": "2023-04-20T13:05:27.305621Z",
     "end_time": "2023-04-20T13:05:27.318621Z"
    }
   }
  },
  {
   "cell_type": "code",
   "execution_count": null,
   "outputs": [],
   "source": [],
   "metadata": {
    "collapsed": false
   }
  }
 ],
 "metadata": {
  "kernelspec": {
   "display_name": "Python 3",
   "language": "python",
   "name": "python3"
  },
  "language_info": {
   "codemirror_mode": {
    "name": "ipython",
    "version": 2
   },
   "file_extension": ".py",
   "mimetype": "text/x-python",
   "name": "python",
   "nbconvert_exporter": "python",
   "pygments_lexer": "ipython2",
   "version": "2.7.6"
  }
 },
 "nbformat": 4,
 "nbformat_minor": 0
}
